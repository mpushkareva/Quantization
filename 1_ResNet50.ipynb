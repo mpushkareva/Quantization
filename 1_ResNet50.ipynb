{
 "cells": [
  {
   "cell_type": "code",
   "execution_count": 2,
   "metadata": {
    "ExecuteTime": {
     "end_time": "2020-06-22T11:51:34.027684Z",
     "start_time": "2020-06-22T11:51:33.989914Z"
    }
   },
   "outputs": [],
   "source": [
    "from keras.applications.resnet50 import ResNet50\n",
    "from keras.preprocessing import image\n",
    "from keras.applications.resnet50 import preprocess_input, decode_predictions\n",
    "import numpy as np\n",
    "import scipy as sp\n",
    "import matplotlib.pyplot as plt\n",
    "#import discretization_mod as dm\n",
    "import os\n",
    "import xml.etree.ElementTree as ET\n",
    "\n",
    "import random\n",
    "from keras import layers\n",
    "import matplotlib.pyplot as plt\n",
    "%matplotlib inline"
   ]
  },
  {
   "cell_type": "code",
   "execution_count": 2,
   "metadata": {
    "ExecuteTime": {
     "end_time": "2020-06-18T12:01:32.851554Z",
     "start_time": "2020-06-18T12:01:32.513002Z"
    }
   },
   "outputs": [],
   "source": [
    "import numpy as np\n",
    "import matplotlib.pyplot as plt\n",
    "get_ipython().run_line_magic('matplotlib', 'inline')\n",
    "import scipy as sp\n",
    "from scipy import special\n",
    "from scipy import stats\n",
    "import xlwt\n",
    "\n",
    "from scipy.optimize import minimize\n",
    "from scipy import integrate\n",
    "\n",
    "\n",
    "def f(x, func, kde, x_min, x_max):\n",
    "    y, px, cov, p = func(x, kde, x_min, x_max)\n",
    "    return cov\n",
    "\n",
    "def grad(x, func, kde, x_min, x_max, alpha=1):\n",
    "    y, px, cov, p = func(x, kde, x_min, x_max)\n",
    "    step = alpha * px * (y[1:] - y[:-1]) * (y[1:] + y[:-1] - 2 * x) / 2\n",
    "    return step\n",
    "\n",
    "def cov_kde(x0, kde, x_min, x_max):\n",
    "    p = np.zeros(len(x0) + 1)\n",
    "    C = np.zeros(len(x0) + 1) \n",
    "    y = np.zeros(len(x0) + 1) \n",
    "    x_ext = sorted(np.append(x0, [x_min, x_max]))\n",
    "    #len_p = len(kde_sample)\n",
    "    #sum_C = np.sum(kde_sample)\n",
    "    x_kde = lambda x: x * kde.evaluate(x)\n",
    "    kde_func = lambda x: kde.evaluate(x)\n",
    "    for i in range(len(x_ext)-1):\n",
    "        #mask = np.where((x_ext[i] < kde_sample) & (kde_sample < x_ext[i+1])) #маска принадлежности отрезку\n",
    "        p[i] = kde.integrate_box_1d(x_ext[i], x_ext[i + 1]) #integrate.quad(kde_func, x_ext[i], x_ext[i + 1])[0]#\n",
    "                                                                    #len(kde_sample[mask]) / len_p\n",
    "        C[i] = integrate.quad(x_kde, x_ext[i], x_ext[i + 1])[0] #np.sum(kde_sample[mask]) / len_p\n",
    "        if p[i] == 0: \n",
    "            C[i] = 0\n",
    "            p[i] = 1\n",
    "    y = C / p\n",
    "    px = kde.evaluate(x0)\n",
    "    cov = np.linalg.norm(C / np.sqrt(p)) #/ sigma_kde\n",
    "    return y, px, cov, p\n",
    "\n",
    "def grad_descent(x, func, X):\n",
    "    n_iter = 100\n",
    "    ans = dict()\n",
    "    for i in range(n_iter):\n",
    "        x += grad(x, func, X, alpha=1)\n",
    "        x = np.sort(x)\n",
    "    ans['fun'] = -f(x, func, X)\n",
    "    ans['x'] = x\n",
    "    ans['success'] = True\n",
    "    return ans\n",
    "\n",
    "def exponential_discretisation(X, bits):\n",
    "    std_W = np.std(X)\n",
    "    max_W = np.fabs(X).max()\n",
    "    x0 = (std_W / max_W) * 0.5**(bits-1)\n",
    "    signs = np.sign(X)\n",
    "    q_a = np.fabs(X.flatten()) / max_W\n",
    "    n = 2 ** (bits - 1)\n",
    "    q = 1 / x0 ** (1 / (n - 1))\n",
    "    assert (x0 < 1)\n",
    "    xx = [0] + [x0 * q ** i for i in range(n)]\n",
    "    q_mean = np.zeros(q_a.size, dtype=np.float) + np.mean(q_a[q_a > xx[n - 1]])\n",
    "    for i in range(len(xx) - 2):\n",
    "        ii = np.logical_and(xx[i] < q_a, q_a <= xx[i + 1])\n",
    "        q_mean[ii] = np.mean(q_a[ii])\n",
    "    new_W = np.reshape(q_mean, X.shape) * signs * max_W\n",
    "    return new_W, np.corrcoef(np.ravel(X), np.ravel(new_W))[1,0], np.array(xx) * max_W\n",
    "\n",
    "def linear_discretization_ceil_nonzero(X, bitwidth):\n",
    "    std_W = np.std(X)\n",
    "    max_W = np.fabs(X).max()\n",
    "    x0 = (std_W / max_W) * 0.5**(bitwidth-1)\n",
    "    M = np.fabs(X).max()\n",
    "    signs = np.sign(X)\n",
    "    assert(x0 < 1)\n",
    "    n = 2 ** (bitwidth - 1)# the number of gradation\n",
    "    q = (1 - x0) / (n - 1)\n",
    "    q_weights = np.fabs(X.flatten()) / M # between 0 and 1\n",
    "    q_weights[abs(q_weights - 1.0) < 1e-7] = 1.0 - 1e-7 # remove maximal\n",
    "    q_int = np.zeros(q_weights.size, dtype=np.int)\n",
    "    q_int[q_weights <= x0] = 0\n",
    "    q_int[q_weights > x0] = np.ceil((q_weights[q_weights > x0] - x0) / q)  # integers  \n",
    "    x = x0 + q * q_int\n",
    "    x = np.array(x, dtype=np.float16)\n",
    "    xx = [0] + [x0 + q * i for i in range(n)]\n",
    "    new_W = np.reshape(x, X.shape) * signs * M\n",
    "    return new_W, np.corrcoef(np.ravel(X), np.ravel(new_W))[1,0], np.array(xx) * max_W\n",
    "\n",
    "def results(kde, x0, x_min, x_max, func, bits, kde_std, ans_case='CG'):\n",
    "    \n",
    "    alpha = 1\n",
    "    n_d = 2 ** bits\n",
    "    \n",
    "    fx = lambda x: -f(x, func, kde, x_min, x_max)\n",
    "    gradx = lambda x: -grad(x, func, kde, x_min, x_max, alpha)\n",
    "    \n",
    "    tol_curr = 1e-4\n",
    "    alpha = 1\n",
    "    #ans = grad_descent(x0, func, X) \n",
    "    ans = minimize(fun=fx, x0=x0, jac=gradx, method='CG', tol=tol_curr)#, options={'gtol': 1e-1})\n",
    "    #print(tol_curr, n_d, -ans['fun'], np.linalg.norm(gradx(ans['x'])) / alpha / n_d)\n",
    "    print(ans['success'])\n",
    "    solutions = ans['x']\n",
    "    correlations = -ans['fun'] #/ np.std(X_small)\n",
    "    gradients = np.linalg.norm(gradx(ans['x'])) / alpha / n_d\n",
    "    return solutions, correlations, gradients"
   ]
  },
  {
   "cell_type": "code",
   "execution_count": 3,
   "metadata": {
    "ExecuteTime": {
     "end_time": "2020-03-03T15:58:03.577894Z",
     "start_time": "2020-03-03T15:58:03.562267Z"
    }
   },
   "outputs": [],
   "source": [
    "def change_weights(w, layer, grad_bit, x0=None):\n",
    "    a = w[layer].copy()\n",
    "    w1 = w.copy()\n",
    "    a_rav = np.ravel(a)\n",
    "    a_norm = a_rav #(a_rav - np.mean(a_rav)) / np.std(a_rav)\n",
    "    a_min = a_norm.min()\n",
    "    a_max = a_norm.max()\n",
    "    if len(a_norm) > 10000:\n",
    "        X_small = np.random.choice(a_norm, 10000, replace=False)\n",
    "    else: X_small = a_norm    \n",
    "        \n",
    "    kde = stats.gaussian_kde(X_small, bw_method='scott')\n",
    "    kde_x2 = lambda x: x ** 2 * kde.evaluate(x)\n",
    "    kde_x = lambda x: x * kde.evaluate(x)\n",
    "    int_x2 = integrate.quad(kde_x2, -np.inf, np.inf)[0]\n",
    "    int_x = integrate.quad(kde_x, -np.inf, np.inf)[0]\n",
    "    kde_std = (int_x2 - int_x ** 2) ** 0.5\n",
    "    \n",
    "    if x0 is None:\n",
    "        x0 = np.linspace(a_min, a_max, 2 ** grad_bit + 1)[1:-1]\n",
    "    else: \n",
    "        x0 = x0[1:-1]\n",
    "    solutions, correlations, gradients = results(kde, x0, a_min, a_max, cov_kde, grad_bit, kde_std, ans_case='CG')\n",
    "    print('layer [', layer,  ']=', correlations / kde_std)\n",
    "    quant = np.sort(np.append(solutions, [a_max, a_min]))\n",
    "    a_discr = a_rav.copy()\n",
    "    a_norm_discr = a_norm.copy()\n",
    "    x_discr = cov_kde(solutions, kde, a_min, a_max)[0]\n",
    "    for i in range(len(quant) - 1):\n",
    "        mask = np.logical_and(quant[i] <= a_norm, quant[i+1] >= a_norm)\n",
    "        a_discr[mask] = x_discr[i] * np.std(a_rav) + np.mean(a_rav)\n",
    "        a_norm_discr[mask] = x_discr[i]\n",
    "    w1[layer] = a_discr.reshape(a.shape)\n",
    "    print(np.corrcoef(a_discr, a_rav)[1,0])\n",
    "    return w1"
   ]
  },
  {
   "cell_type": "code",
   "execution_count": 30,
   "metadata": {
    "ExecuteTime": {
     "end_time": "2020-02-19T12:27:33.573471Z",
     "start_time": "2020-02-19T12:27:33.557853Z"
    }
   },
   "outputs": [],
   "source": [
    "def change_all_weights(weights, grad_bit, layers_to_quant, init_discr='linear'):\n",
    "    quant_weights = weights.copy()\n",
    "    for layer in layers_to_quant:\n",
    "        w_rav = np.ravel(quant_weights[layer])\n",
    "        w_norm = (w_rav - np.mean(w_rav)) / np.std(w_rav)\n",
    "        if len(w_norm) > 10000:\n",
    "            w_small = np.random.choice(w_norm, 10000, replace=False)\n",
    "        else: w_small = w_norm\n",
    "        kde = stats.gaussian_kde(w_small, bw_method='scott')\n",
    "        \n",
    "        if init_discr == 'linear':\n",
    "            weights_layer, corr, xx = linear_discretization_ceil_nonzero(w_norm, grad_bit)\n",
    "        else:\n",
    "            weights_layer, corr, xx = exponential_discretisation(w_norm, grad_bit)\n",
    "            \n",
    "        x0 = np.sort(np.append(xx, -xx[1:]))\n",
    "        \n",
    "        w_min = x0.min()\n",
    "        w_max = x0.max()\n",
    "        solutions, correlations, gradients = results(kde, x0[1:-1], w_min, w_max, cov_kde, grad_bit, kde_std=1, ans_case='CG')\n",
    "        quant = np.sort(np.append(solutions, [w_max, w_min])) \n",
    "        w_discr = w_rav.copy()\n",
    "        x_discr = cov_kde(solutions, kde, w_min, w_max)[0]\n",
    "        for i in range(len(quant) - 1):\n",
    "            mask = np.logical_and(quant[i] <= w_norm, quant[i+1] >= w_norm)\n",
    "            w_discr[mask] = x_discr[i] * np.std(w_rav) + np.mean(w_rav)\n",
    "        quant_weights[layer] = w_discr.reshape(quant_weights[layer].shape)\n",
    "    return quant_weights"
   ]
  },
  {
   "cell_type": "code",
   "execution_count": 5,
   "metadata": {
    "ExecuteTime": {
     "end_time": "2020-02-19T09:46:28.142629Z",
     "start_time": "2020-02-19T09:46:28.111376Z"
    }
   },
   "outputs": [],
   "source": [
    "def load_batch_of_images(batch_size = 100, images_folder='imagenet/preprocessed images val', xml_folder='imagenet/xml val'):  \n",
    "    jpeg_files = [file for file in os.listdir(images_folder)]\n",
    "    random.shuffle(jpeg_files)\n",
    "    jpeg_files_batch = jpeg_files[:batch_size]\n",
    "    batch = []\n",
    "    for i in range(batch_size):\n",
    "        img = image.load_img(os.path.join('.', images_folder, jpeg_files_batch[i]), target_size=(224, 224))\n",
    "        img = image.img_to_array(img)\n",
    "        batch.append(img)\n",
    "\n",
    "    batch = np.asarray(batch)\n",
    "    #x = np.expand_dims(batch, axis=0)\n",
    "    batch = preprocess_input(batch, mode='caffe')\n",
    "    xml_files = [file.split('.')[0] + '.xml' for file in jpeg_files_batch]\n",
    "    answers = []\n",
    "    for i in range(batch_size):\n",
    "        tree = ET.parse(os.path.join(xml_folder, xml_files[i]))\n",
    "        root = tree.getroot()\n",
    "        valid_value = root[5][0].text\n",
    "        answers.append(valid_value)\n",
    "    \n",
    "    return batch, answers\n",
    "\n",
    "def compute_accuracy_on_batch_of_images(batch, model, answers):  \n",
    "    preds = model.predict(batch)\n",
    "    # convert the probabilities to class labels\n",
    "    labels = decode_predictions(preds)\n",
    "    top1_correct = 0\n",
    "    top5_correct = 0\n",
    "    for i in range(len(batch)):\n",
    "        if answers[i] == labels[i][0][0]:\n",
    "            top1_correct += 1\n",
    "        for k in range(5):\n",
    "            if answers[i] in labels[i][k][0]:\n",
    "                top5_correct += 1\n",
    "                break\n",
    "    top1_correct /= len(batch)\n",
    "    top5_correct /= len(batch)\n",
    "    #print(\"Top1:\", top1_correct)\n",
    "    #print(\"Top5:\", top5_correct)\n",
    "    \n",
    "    return top1_correct, top5_correct"
   ]
  },
  {
   "cell_type": "code",
   "execution_count": 4,
   "metadata": {
    "ExecuteTime": {
     "end_time": "2020-03-03T15:58:10.707936Z",
     "start_time": "2020-03-03T15:58:06.781232Z"
    }
   },
   "outputs": [],
   "source": [
    "model = ResNet50(weights='imagenet')\n",
    "weights = np.array(model.get_weights())"
   ]
  },
  {
   "cell_type": "code",
   "execution_count": 7,
   "metadata": {
    "ExecuteTime": {
     "end_time": "2020-02-19T09:46:36.409373Z",
     "start_time": "2020-02-19T09:46:36.393747Z"
    }
   },
   "outputs": [],
   "source": [
    "layers_to_quant = []\n",
    "for i in range(len(weights)):\n",
    "    if weights[i].ndim != 1:\n",
    "        layers_to_quant.append(i)"
   ]
  },
  {
   "cell_type": "code",
   "execution_count": 22,
   "metadata": {
    "ExecuteTime": {
     "end_time": "2020-02-19T12:20:45.995939Z",
     "start_time": "2020-02-19T12:20:43.456632Z"
    }
   },
   "outputs": [],
   "source": [
    "weights_exp_5_bit = weights.copy()\n",
    "for i in layers_to_quant:\n",
    "    weights_exp_5_bit[i] = exponential_discretisation(weights_exp_5_bit[i], 5)[0]"
   ]
  },
  {
   "cell_type": "code",
   "execution_count": 23,
   "metadata": {
    "ExecuteTime": {
     "end_time": "2020-02-19T12:20:54.012284Z",
     "start_time": "2020-02-19T12:20:51.965202Z"
    }
   },
   "outputs": [],
   "source": [
    "weights_exp_4_bit = weights.copy()\n",
    "for i in layers_to_quant:\n",
    "    weights_exp_4_bit [i] = exponential_discretisation(weights_exp_4_bit[i], 4)[0]"
   ]
  },
  {
   "cell_type": "code",
   "execution_count": 45,
   "metadata": {
    "ExecuteTime": {
     "end_time": "2020-02-25T09:08:57.042066Z",
     "start_time": "2020-02-25T09:08:53.866941Z"
    }
   },
   "outputs": [],
   "source": [
    "weights_exp_6_bit = weights.copy()\n",
    "for i in layers_to_quant:\n",
    "    weights_exp_6_bit[i] = exponential_discretisation(weights_exp_6_bit[i], 6)[0]"
   ]
  },
  {
   "cell_type": "code",
   "execution_count": 25,
   "metadata": {
    "ExecuteTime": {
     "end_time": "2020-02-19T12:22:07.542235Z",
     "start_time": "2020-02-19T12:22:06.088942Z"
    }
   },
   "outputs": [],
   "source": [
    "weights_lin_5_bit = weights.copy()\n",
    "for i in layers_to_quant:\n",
    "    weights_lin_5_bit [i] = linear_discretization_ceil_nonzero(weights_lin_5_bit[i], 5)[0]"
   ]
  },
  {
   "cell_type": "code",
   "execution_count": 26,
   "metadata": {
    "ExecuteTime": {
     "end_time": "2020-02-19T12:22:09.042336Z",
     "start_time": "2020-02-19T12:22:07.542235Z"
    }
   },
   "outputs": [],
   "source": [
    "weights_lin_4_bit = weights.copy()\n",
    "for i in layers_to_quant:\n",
    "    weights_lin_4_bit [i] = linear_discretization_ceil_nonzero(weights_lin_4_bit[i], 4)[0]"
   ]
  },
  {
   "cell_type": "code",
   "execution_count": 48,
   "metadata": {
    "ExecuteTime": {
     "end_time": "2020-02-25T10:37:28.102919Z",
     "start_time": "2020-02-25T09:23:16.103290Z"
    }
   },
   "outputs": [
    {
     "name": "stdout",
     "output_type": "stream",
     "text": [
      "True\n",
      "True\n",
      "True\n",
      "True\n",
      "True\n",
      "True\n",
      "True\n",
      "True\n",
      "True\n",
      "True\n",
      "True\n",
      "True\n",
      "True\n",
      "True\n",
      "True\n",
      "True\n",
      "True\n",
      "True\n",
      "True\n",
      "True\n",
      "True\n",
      "True\n",
      "True\n",
      "True\n",
      "True\n",
      "True\n",
      "True\n",
      "True\n",
      "True\n",
      "True\n",
      "True\n",
      "True\n",
      "True\n",
      "True\n",
      "True\n",
      "True\n",
      "True\n",
      "True\n",
      "True\n",
      "True\n",
      "True\n",
      "True\n",
      "True\n",
      "True\n",
      "True\n",
      "True\n",
      "True\n",
      "True\n",
      "True\n",
      "True\n",
      "True\n",
      "True\n",
      "True\n",
      "True\n"
     ]
    }
   ],
   "source": [
    "weights_exp_kde_4_bit = change_all_weights(weights, 4, layers_to_quant, init_discr='exp')"
   ]
  },
  {
   "cell_type": "code",
   "execution_count": 49,
   "metadata": {
    "ExecuteTime": {
     "end_time": "2020-02-25T11:55:13.152866Z",
     "start_time": "2020-02-25T10:38:06.842648Z"
    }
   },
   "outputs": [
    {
     "name": "stdout",
     "output_type": "stream",
     "text": [
      "True\n",
      "True\n",
      "True\n",
      "True\n",
      "True\n",
      "True\n",
      "True\n",
      "True\n",
      "True\n",
      "True\n",
      "True\n",
      "True\n",
      "True\n",
      "True\n",
      "True\n",
      "True\n",
      "True\n",
      "True\n",
      "True\n",
      "True\n",
      "True\n",
      "True\n",
      "True\n",
      "True\n",
      "True\n",
      "True\n",
      "True\n",
      "True\n",
      "True\n",
      "True\n",
      "True\n",
      "True\n",
      "True\n",
      "True\n",
      "True\n",
      "True\n",
      "True\n",
      "True\n",
      "True\n",
      "True\n",
      "True\n",
      "True\n",
      "True\n",
      "True\n",
      "True\n",
      "True\n",
      "True\n",
      "True\n",
      "True\n",
      "True\n",
      "True\n",
      "True\n",
      "True\n",
      "True\n"
     ]
    }
   ],
   "source": [
    "weights_exp_kde_5_bit = change_all_weights(weights, 5, layers_to_quant, init_discr='exp')"
   ]
  },
  {
   "cell_type": "code",
   "execution_count": 60,
   "metadata": {
    "ExecuteTime": {
     "end_time": "2020-02-25T13:00:38.687988Z",
     "start_time": "2020-02-25T13:00:38.587497Z"
    }
   },
   "outputs": [
    {
     "data": {
      "text/plain": [
       "29"
      ]
     },
     "execution_count": 60,
     "metadata": {},
     "output_type": "execute_result"
    }
   ],
   "source": [
    "len(np.unique(weights_exp_kde_5_bit[306]))"
   ]
  },
  {
   "cell_type": "code",
   "execution_count": 43,
   "metadata": {
    "ExecuteTime": {
     "end_time": "2020-02-21T15:32:39.752737Z",
     "start_time": "2020-02-21T14:10:11.175491Z"
    }
   },
   "outputs": [
    {
     "name": "stderr",
     "output_type": "stream",
     "text": [
      "C:\\Users\\user\\Anaconda3\\lib\\site-packages\\numpy\\core\\fromnumeric.py:3118: RuntimeWarning: Mean of empty slice.\n",
      "  out=out, **kwargs)\n",
      "C:\\Users\\user\\Anaconda3\\lib\\site-packages\\numpy\\core\\_methods.py:85: RuntimeWarning: invalid value encountered in true_divide\n",
      "  ret = ret.dtype.type(ret / rcount)\n"
     ]
    }
   ],
   "source": [
    "weights_exp_kde_6_bit = change_all_weights(weights, 6, layers_to_quant, init_discr='exp')"
   ]
  },
  {
   "cell_type": "code",
   "execution_count": 37,
   "metadata": {
    "ExecuteTime": {
     "end_time": "2020-02-20T14:04:09.834514Z",
     "start_time": "2020-02-20T12:28:03.658841Z"
    }
   },
   "outputs": [],
   "source": [
    "weights_lin_kde_4_bit = change_all_weights(weights, 4, layers_to_quant)"
   ]
  },
  {
   "cell_type": "code",
   "execution_count": 38,
   "metadata": {
    "ExecuteTime": {
     "end_time": "2020-02-20T17:47:03.506578Z",
     "start_time": "2020-02-20T14:04:09.834514Z"
    }
   },
   "outputs": [],
   "source": [
    "weights_lin_kde_5_bit = change_all_weights(weights, 5, layers_to_quant)"
   ]
  },
  {
   "cell_type": "code",
   "execution_count": 18,
   "metadata": {
    "ExecuteTime": {
     "end_time": "2020-02-19T12:07:07.146161Z",
     "start_time": "2020-02-19T12:07:06.364867Z"
    }
   },
   "outputs": [],
   "source": [
    "batch, true_answers = load_batch_of_images(batch_size=100)"
   ]
  },
  {
   "cell_type": "code",
   "execution_count": 44,
   "metadata": {
    "ExecuteTime": {
     "end_time": "2020-02-25T09:02:46.823976Z",
     "start_time": "2020-02-25T09:01:49.075146Z"
    }
   },
   "outputs": [
    {
     "name": "stdout",
     "output_type": "stream",
     "text": [
      "no quantization: top1: 0.75, top5: 0.94\n",
      "with 4 bit exp kde quantization: top1: 0.6, top5: 0.85\n",
      "with 5 bit exp kde quantization: top1: 0.66, top5: 0.86\n",
      "with 6 bit exp kde quantization: top1: 0.73, top5: 0.89\n"
     ]
    }
   ],
   "source": [
    "model.set_weights(weights)\n",
    "top1, top5 = compute_accuracy_on_batch_of_images(batch, model, true_answers)\n",
    "print('no quantization:', f'top1: {top1}, top5: {top5}')\n",
    "\n",
    "model1 = model\n",
    "model1.set_weights(weights_exp_kde_4_bit)\n",
    "top1, top5 = compute_accuracy_on_batch_of_images(batch, model1, true_answers)\n",
    "print('with 4 bit exp kde quantization:', f'top1: {top1}, top5: {top5}')\n",
    "\n",
    "model1 = model\n",
    "model1.set_weights(weights_exp_kde_5_bit)\n",
    "top1, top5 = compute_accuracy_on_batch_of_images(batch, model1, true_answers)\n",
    "print('with 5 bit exp kde quantization:', f'top1: {top1}, top5: {top5}')\n",
    "\n",
    "model1 = model\n",
    "model1.set_weights(weights_exp_kde_6_bit)\n",
    "top1, top5 = compute_accuracy_on_batch_of_images(batch, model1, true_answers)\n",
    "print('with 6 bit exp kde quantization:', f'top1: {top1}, top5: {top5}')"
   ]
  },
  {
   "cell_type": "code",
   "execution_count": 46,
   "metadata": {
    "ExecuteTime": {
     "end_time": "2020-02-25T09:09:56.235721Z",
     "start_time": "2020-02-25T09:09:12.248416Z"
    }
   },
   "outputs": [
    {
     "name": "stdout",
     "output_type": "stream",
     "text": [
      "with 4 bit exp quantization: top1: 0.52, top5: 0.72\n",
      "with 5 bit exp quantization: top1: 0.68, top5: 0.88\n",
      "with 6 bit exp quantization: top1: 0.74, top5: 0.92\n"
     ]
    }
   ],
   "source": [
    "model1 = model\n",
    "model1.set_weights(weights_exp_4_bit)\n",
    "top1, top5 = compute_accuracy_on_batch_of_images(batch, model1, true_answers)\n",
    "print('with 4 bit exp quantization:', f'top1: {top1}, top5: {top5}')\n",
    "\n",
    "model1 = model\n",
    "model1.set_weights(weights_exp_5_bit)\n",
    "top1, top5 = compute_accuracy_on_batch_of_images(batch, model1, true_answers)\n",
    "print('with 5 bit exp quantization:', f'top1: {top1}, top5: {top5}')\n",
    "\n",
    "model1 = model\n",
    "model1.set_weights(weights_exp_6_bit)\n",
    "top1, top5 = compute_accuracy_on_batch_of_images(batch, model1, true_answers)\n",
    "print('with 6 bit exp quantization:', f'top1: {top1}, top5: {top5}')"
   ]
  },
  {
   "cell_type": "code",
   "execution_count": 41,
   "metadata": {
    "ExecuteTime": {
     "end_time": "2020-02-21T09:05:06.408836Z",
     "start_time": "2020-02-21T09:04:37.428656Z"
    }
   },
   "outputs": [
    {
     "name": "stdout",
     "output_type": "stream",
     "text": [
      "with 4 bit lin quantization: top1: 0.01, top5: 0.01\n",
      "with 5 bit lin quantization: top1: 0.0, top5: 0.0\n"
     ]
    }
   ],
   "source": [
    "model1 = model\n",
    "model1.set_weights(weights_lin_4_bit)\n",
    "top1, top5 = compute_accuracy_on_batch_of_images(batch, model1, true_answers)\n",
    "print('with 4 bit lin quantization:', f'top1: {top1}, top5: {top5}')\n",
    "\n",
    "model1 = model\n",
    "model1.set_weights(weights_lin_5_bit)\n",
    "top1, top5 = compute_accuracy_on_batch_of_images(batch, model1, true_answers)\n",
    "print('with 5 bit lin quantization:', f'top1: {top1}, top5: {top5}')"
   ]
  },
  {
   "cell_type": "code",
   "execution_count": 42,
   "metadata": {
    "ExecuteTime": {
     "end_time": "2020-02-21T09:06:19.678279Z",
     "start_time": "2020-02-21T09:05:50.788738Z"
    }
   },
   "outputs": [
    {
     "name": "stdout",
     "output_type": "stream",
     "text": [
      "with 4 bit lin kde quantization: top1: 0.01, top5: 0.01\n",
      "with 5 bit lin kde quantization: top1: 0.59, top5: 0.86\n"
     ]
    }
   ],
   "source": [
    "model1 = model\n",
    "model1.set_weights(weights_lin_kde_4_bit)\n",
    "top1, top5 = compute_accuracy_on_batch_of_images(batch, model1, true_answers)\n",
    "print('with 4 bit lin kde quantization:', f'top1: {top1}, top5: {top5}')\n",
    "\n",
    "model1 = model\n",
    "model1.set_weights(weights_lin_kde_5_bit)\n",
    "top1, top5 = compute_accuracy_on_batch_of_images(batch, model1, true_answers)\n",
    "print('with 5 bit lin kde quantization:', f'top1: {top1}, top5: {top5}')"
   ]
  },
  {
   "cell_type": "code",
   "execution_count": 64,
   "metadata": {
    "ExecuteTime": {
     "end_time": "2020-02-18T11:25:25.566382Z",
     "start_time": "2020-02-18T11:25:25.378870Z"
    }
   },
   "outputs": [
    {
     "data": {
      "text/plain": [
       "[<matplotlib.lines.Line2D at 0x265901caa88>]"
      ]
     },
     "execution_count": 64,
     "metadata": {},
     "output_type": "execute_result"
    },
    {
     "data": {
      "image/png": "[encoded data removed]",
      "text/plain": [
       "<Figure size 432x288 with 1 Axes>"
      ]
     },
     "metadata": {
      "needs_background": "light"
     },
     "output_type": "display_data"
    }
   ],
   "source": [
    "plt.plot(np.sort(w_small[::10]), kde.evaluate(np.sort(w_small[::10])))"
   ]
  },
  {
   "cell_type": "code",
   "execution_count": 65,
   "metadata": {
    "ExecuteTime": {
     "end_time": "2020-02-18T11:25:26.785213Z",
     "start_time": "2020-02-18T11:25:26.082042Z"
    }
   },
   "outputs": [
    {
     "data": {
      "text/plain": [
       "[<matplotlib.lines.Line2D at 0x26592b5be88>]"
      ]
     },
     "execution_count": 65,
     "metadata": {},
     "output_type": "execute_result"
    },
    {
     "data": {
      "image/png": "[encoded data removed]",
      "text/plain": [
       "<Figure size 432x288 with 1 Axes>"
      ]
     },
     "metadata": {
      "needs_background": "light"
     },
     "output_type": "display_data"
    }
   ],
   "source": [
    "plt.plot(np.sort(w_small), kde.evaluate(np.sort(w_small)))"
   ]
  },
  {
   "cell_type": "code",
   "execution_count": null,
   "metadata": {},
   "outputs": [],
   "source": []
  }
 ],
 "metadata": {
  "kernelspec": {
   "display_name": "Python 3",
   "language": "python",
   "name": "python3"
  },
  "language_info": {
   "codemirror_mode": {
    "name": "ipython",
    "version": 3
   },
   "file_extension": ".py",
   "mimetype": "text/x-python",
   "name": "python",
   "nbconvert_exporter": "python",
   "pygments_lexer": "ipython3",
   "version": "3.7.4"
  }
 },
 "nbformat": 4,
 "nbformat_minor": 2
}
